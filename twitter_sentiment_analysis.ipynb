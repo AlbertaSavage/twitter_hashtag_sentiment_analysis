{
 "cells": [
  {
   "cell_type": "code",
   "execution_count": 1,
   "metadata": {},
   "outputs": [],
   "source": [
    "import tweepy\n",
    "import pandas as pd\n",
    "import numpy as np\n",
    "import re\n",
    "\n",
    "from IPython.display import display\n",
    "# import matplotlib.pyplot as plt\n",
    "# import seaborn as sns\n",
    "# %matplotlib inline"
   ]
  },
  {
   "cell_type": "code",
   "execution_count": 2,
   "metadata": {},
   "outputs": [],
   "source": [
    "from credentials import *\n",
    "### credentials file contains my twitter keys and tokens \n",
    "\n",
    "def twitter_setup():\n",
    "    \n",
    "    auth = tweepy.OAuthHandler(CONSUMER_KEY, CONSUMER_SECRET)\n",
    "    auth.set_access_token(ACCESS_TOKEN,ACCESS_SECRET)\n",
    "    \n",
    "    api = tweepy.API(auth,wait_on_rate_limit = True)\n",
    "    return api"
   ]
  },
  {
   "cell_type": "code",
   "execution_count": null,
   "metadata": {},
   "outputs": [],
   "source": [
    "## cleaning the tweets by removing links and special links and characters using regrex ##"
   ]
  },
  {
   "cell_type": "code",
   "execution_count": 3,
   "metadata": {},
   "outputs": [],
   "source": [
    "def clean_tweet(tweet):\n",
    "    \n",
    "    return ' '.join(re.sub(\"(@[A-Za-z0-9]+)|([^0-9A-Za-z \\t])|(\\w+:\\/\\/\\S+)\", \" \", tweet).split())"
   ]
  },
  {
   "cell_type": "code",
   "execution_count": 4,
   "metadata": {},
   "outputs": [],
   "source": [
    "extractor = twitter_setup()"
   ]
  },
  {
   "cell_type": "code",
   "execution_count": 5,
   "metadata": {},
   "outputs": [],
   "source": [
    "tweets_list = []"
   ]
  },
  {
   "cell_type": "code",
   "execution_count": null,
   "metadata": {},
   "outputs": [],
   "source": [
    "# streaming the tweets based on the hashtag provided; #MrsMaisel in this particular case"
   ]
  },
  {
   "cell_type": "code",
   "execution_count": 6,
   "metadata": {},
   "outputs": [],
   "source": [
    "for tweet_info in tweepy.Cursor(extractor.search, \n",
    "                                q=\"#MrsMaisel -filter:retweets\", \n",
    "#                                 count=5, \n",
    "                                tweet_mode=\"extended\", \n",
    "                                since=\"2019-01-22\",\n",
    "                                until=\"2019-01-23\").items(500):\n",
    "    tweet = clean_tweet(tweet_info.full_text)\n",
    "    author = tweet_info.user.screen_name\n",
    "    tweet_time = tweet_info.created_at\n",
    "    tweet_dict = {'author':author,'time':tweet_time, \"tweet_text\":tweet}\n",
    "    \n",
    "    tweets_list.append(tweet_dict)"
   ]
  },
  {
   "cell_type": "code",
   "execution_count": 7,
   "metadata": {},
   "outputs": [],
   "source": [
    "df = pd.DataFrame(tweets_list)"
   ]
  },
  {
   "cell_type": "code",
   "execution_count": 8,
   "metadata": {},
   "outputs": [
    {
     "data": {
      "text/plain": [
       "(49, 3)"
      ]
     },
     "execution_count": 8,
     "metadata": {},
     "output_type": "execute_result"
    }
   ],
   "source": [
    "df.shape"
   ]
  },
  {
   "cell_type": "code",
   "execution_count": 9,
   "metadata": {},
   "outputs": [
    {
     "data": {
      "text/html": [
       "<div>\n",
       "<style scoped>\n",
       "    .dataframe tbody tr th:only-of-type {\n",
       "        vertical-align: middle;\n",
       "    }\n",
       "\n",
       "    .dataframe tbody tr th {\n",
       "        vertical-align: top;\n",
       "    }\n",
       "\n",
       "    .dataframe thead th {\n",
       "        text-align: right;\n",
       "    }\n",
       "</style>\n",
       "<table border=\"1\" class=\"dataframe\">\n",
       "  <thead>\n",
       "    <tr style=\"text-align: right;\">\n",
       "      <th></th>\n",
       "      <th>author</th>\n",
       "      <th>time</th>\n",
       "      <th>tweet_text</th>\n",
       "    </tr>\n",
       "  </thead>\n",
       "  <tbody>\n",
       "    <tr>\n",
       "      <th>0</th>\n",
       "      <td>JadePagola</td>\n",
       "      <td>2019-01-22 23:59:26</td>\n",
       "      <td>MrsMaisel is one of my favorite shows I highly...</td>\n",
       "    </tr>\n",
       "    <tr>\n",
       "      <th>1</th>\n",
       "      <td>luce_taff</td>\n",
       "      <td>2019-01-22 22:11:21</td>\n",
       "      <td>Dr Benjamin Ettenberg is the sweetest fuckin s...</td>\n",
       "    </tr>\n",
       "    <tr>\n",
       "      <th>2</th>\n",
       "      <td>Pretty_Dire</td>\n",
       "      <td>2019-01-22 22:10:06</td>\n",
       "      <td>Benjamin MrsMaisel</td>\n",
       "    </tr>\n",
       "    <tr>\n",
       "      <th>3</th>\n",
       "      <td>lcamjam</td>\n",
       "      <td>2019-01-22 21:53:40</td>\n",
       "      <td>Just watched the last episode of MrsMaisel sea...</td>\n",
       "    </tr>\n",
       "    <tr>\n",
       "      <th>4</th>\n",
       "      <td>EveLaurence</td>\n",
       "      <td>2019-01-22 21:51:48</td>\n",
       "      <td>Midge and Ben at the Art Gallery lol MrsMaisel</td>\n",
       "    </tr>\n",
       "  </tbody>\n",
       "</table>\n",
       "</div>"
      ],
      "text/plain": [
       "        author                time  \\\n",
       "0   JadePagola 2019-01-22 23:59:26   \n",
       "1    luce_taff 2019-01-22 22:11:21   \n",
       "2  Pretty_Dire 2019-01-22 22:10:06   \n",
       "3      lcamjam 2019-01-22 21:53:40   \n",
       "4  EveLaurence 2019-01-22 21:51:48   \n",
       "\n",
       "                                          tweet_text  \n",
       "0  MrsMaisel is one of my favorite shows I highly...  \n",
       "1  Dr Benjamin Ettenberg is the sweetest fuckin s...  \n",
       "2                                 Benjamin MrsMaisel  \n",
       "3  Just watched the last episode of MrsMaisel sea...  \n",
       "4     Midge and Ben at the Art Gallery lol MrsMaisel  "
      ]
     },
     "execution_count": 9,
     "metadata": {},
     "output_type": "execute_result"
    }
   ],
   "source": [
    "df.head()"
   ]
  },
  {
   "cell_type": "code",
   "execution_count": null,
   "metadata": {},
   "outputs": [],
   "source": [
    "## importing vader"
   ]
  },
  {
   "cell_type": "code",
   "execution_count": 10,
   "metadata": {},
   "outputs": [],
   "source": [
    "from vaderSentiment.vaderSentiment import SentimentIntensityAnalyzer\n",
    "\n",
    "analyser = SentimentIntensityAnalyzer()"
   ]
  },
  {
   "cell_type": "code",
   "execution_count": null,
   "metadata": {},
   "outputs": [],
   "source": [
    "# define a function that returns the sentiment scores when a string is passed to it "
   ]
  },
  {
   "cell_type": "code",
   "execution_count": 11,
   "metadata": {},
   "outputs": [],
   "source": [
    "def sentiment_analyzer_scores(sentence):\n",
    "    score = analyser.polarity_scores(sentence)\n",
    "    return score"
   ]
  },
  {
   "cell_type": "code",
   "execution_count": null,
   "metadata": {},
   "outputs": [],
   "source": [
    "## adding a column with the sentiment scores to the dataframe"
   ]
  },
  {
   "cell_type": "code",
   "execution_count": 12,
   "metadata": {},
   "outputs": [],
   "source": [
    "df[\"tweet_sentmt\"] = df[\"tweet_text\"].apply(sentiment_analyzer_scores)"
   ]
  },
  {
   "cell_type": "code",
   "execution_count": 13,
   "metadata": {},
   "outputs": [
    {
     "data": {
      "text/html": [
       "<div>\n",
       "<style scoped>\n",
       "    .dataframe tbody tr th:only-of-type {\n",
       "        vertical-align: middle;\n",
       "    }\n",
       "\n",
       "    .dataframe tbody tr th {\n",
       "        vertical-align: top;\n",
       "    }\n",
       "\n",
       "    .dataframe thead th {\n",
       "        text-align: right;\n",
       "    }\n",
       "</style>\n",
       "<table border=\"1\" class=\"dataframe\">\n",
       "  <thead>\n",
       "    <tr style=\"text-align: right;\">\n",
       "      <th></th>\n",
       "      <th>author</th>\n",
       "      <th>time</th>\n",
       "      <th>tweet_text</th>\n",
       "      <th>tweet_sentmt</th>\n",
       "    </tr>\n",
       "  </thead>\n",
       "  <tbody>\n",
       "    <tr>\n",
       "      <th>0</th>\n",
       "      <td>JadePagola</td>\n",
       "      <td>2019-01-22 23:59:26</td>\n",
       "      <td>MrsMaisel is one of my favorite shows I highly...</td>\n",
       "      <td>{'neu': 0.608, 'neg': 0.0, 'pos': 0.392, 'comp...</td>\n",
       "    </tr>\n",
       "    <tr>\n",
       "      <th>1</th>\n",
       "      <td>luce_taff</td>\n",
       "      <td>2019-01-22 22:11:21</td>\n",
       "      <td>Dr Benjamin Ettenberg is the sweetest fuckin s...</td>\n",
       "      <td>{'neu': 1.0, 'neg': 0.0, 'pos': 0.0, 'compound...</td>\n",
       "    </tr>\n",
       "    <tr>\n",
       "      <th>2</th>\n",
       "      <td>Pretty_Dire</td>\n",
       "      <td>2019-01-22 22:10:06</td>\n",
       "      <td>Benjamin MrsMaisel</td>\n",
       "      <td>{'neu': 1.0, 'neg': 0.0, 'pos': 0.0, 'compound...</td>\n",
       "    </tr>\n",
       "    <tr>\n",
       "      <th>3</th>\n",
       "      <td>lcamjam</td>\n",
       "      <td>2019-01-22 21:53:40</td>\n",
       "      <td>Just watched the last episode of MrsMaisel sea...</td>\n",
       "      <td>{'neu': 0.493, 'neg': 0.206, 'pos': 0.302, 'co...</td>\n",
       "    </tr>\n",
       "    <tr>\n",
       "      <th>4</th>\n",
       "      <td>EveLaurence</td>\n",
       "      <td>2019-01-22 21:51:48</td>\n",
       "      <td>Midge and Ben at the Art Gallery lol MrsMaisel</td>\n",
       "      <td>{'neu': 0.741, 'neg': 0.0, 'pos': 0.259, 'comp...</td>\n",
       "    </tr>\n",
       "  </tbody>\n",
       "</table>\n",
       "</div>"
      ],
      "text/plain": [
       "        author                time  \\\n",
       "0   JadePagola 2019-01-22 23:59:26   \n",
       "1    luce_taff 2019-01-22 22:11:21   \n",
       "2  Pretty_Dire 2019-01-22 22:10:06   \n",
       "3      lcamjam 2019-01-22 21:53:40   \n",
       "4  EveLaurence 2019-01-22 21:51:48   \n",
       "\n",
       "                                          tweet_text  \\\n",
       "0  MrsMaisel is one of my favorite shows I highly...   \n",
       "1  Dr Benjamin Ettenberg is the sweetest fuckin s...   \n",
       "2                                 Benjamin MrsMaisel   \n",
       "3  Just watched the last episode of MrsMaisel sea...   \n",
       "4     Midge and Ben at the Art Gallery lol MrsMaisel   \n",
       "\n",
       "                                        tweet_sentmt  \n",
       "0  {'neu': 0.608, 'neg': 0.0, 'pos': 0.392, 'comp...  \n",
       "1  {'neu': 1.0, 'neg': 0.0, 'pos': 0.0, 'compound...  \n",
       "2  {'neu': 1.0, 'neg': 0.0, 'pos': 0.0, 'compound...  \n",
       "3  {'neu': 0.493, 'neg': 0.206, 'pos': 0.302, 'co...  \n",
       "4  {'neu': 0.741, 'neg': 0.0, 'pos': 0.259, 'comp...  "
      ]
     },
     "execution_count": 13,
     "metadata": {},
     "output_type": "execute_result"
    }
   ],
   "source": [
    "df.head()"
   ]
  },
  {
   "cell_type": "code",
   "execution_count": null,
   "metadata": {},
   "outputs": [],
   "source": [
    "## converting the column with the scores from a dictionary to a dataframe"
   ]
  },
  {
   "cell_type": "code",
   "execution_count": 14,
   "metadata": {},
   "outputs": [],
   "source": [
    "df_sentmt = pd.DataFrame(list(df[\"tweet_sentmt\"]))"
   ]
  },
  {
   "cell_type": "code",
   "execution_count": null,
   "metadata": {},
   "outputs": [],
   "source": [
    "df_sentmt.head()"
   ]
  },
  {
   "cell_type": "code",
   "execution_count": 15,
   "metadata": {},
   "outputs": [],
   "source": [
    "df = pd.concat([df,df_sentmt], axis = 1)"
   ]
  },
  {
   "cell_type": "code",
   "execution_count": 16,
   "metadata": {},
   "outputs": [
    {
     "data": {
      "text/html": [
       "<div>\n",
       "<style scoped>\n",
       "    .dataframe tbody tr th:only-of-type {\n",
       "        vertical-align: middle;\n",
       "    }\n",
       "\n",
       "    .dataframe tbody tr th {\n",
       "        vertical-align: top;\n",
       "    }\n",
       "\n",
       "    .dataframe thead th {\n",
       "        text-align: right;\n",
       "    }\n",
       "</style>\n",
       "<table border=\"1\" class=\"dataframe\">\n",
       "  <thead>\n",
       "    <tr style=\"text-align: right;\">\n",
       "      <th></th>\n",
       "      <th>author</th>\n",
       "      <th>time</th>\n",
       "      <th>tweet_text</th>\n",
       "      <th>tweet_sentmt</th>\n",
       "      <th>compound</th>\n",
       "      <th>neg</th>\n",
       "      <th>neu</th>\n",
       "      <th>pos</th>\n",
       "    </tr>\n",
       "  </thead>\n",
       "  <tbody>\n",
       "    <tr>\n",
       "      <th>0</th>\n",
       "      <td>JadePagola</td>\n",
       "      <td>2019-01-22 23:59:26</td>\n",
       "      <td>MrsMaisel is one of my favorite shows I highly...</td>\n",
       "      <td>{'neu': 0.608, 'neg': 0.0, 'pos': 0.392, 'comp...</td>\n",
       "      <td>0.6997</td>\n",
       "      <td>0.000</td>\n",
       "      <td>0.608</td>\n",
       "      <td>0.392</td>\n",
       "    </tr>\n",
       "    <tr>\n",
       "      <th>1</th>\n",
       "      <td>luce_taff</td>\n",
       "      <td>2019-01-22 22:11:21</td>\n",
       "      <td>Dr Benjamin Ettenberg is the sweetest fuckin s...</td>\n",
       "      <td>{'neu': 1.0, 'neg': 0.0, 'pos': 0.0, 'compound...</td>\n",
       "      <td>0.0000</td>\n",
       "      <td>0.000</td>\n",
       "      <td>1.000</td>\n",
       "      <td>0.000</td>\n",
       "    </tr>\n",
       "    <tr>\n",
       "      <th>2</th>\n",
       "      <td>Pretty_Dire</td>\n",
       "      <td>2019-01-22 22:10:06</td>\n",
       "      <td>Benjamin MrsMaisel</td>\n",
       "      <td>{'neu': 1.0, 'neg': 0.0, 'pos': 0.0, 'compound...</td>\n",
       "      <td>0.0000</td>\n",
       "      <td>0.000</td>\n",
       "      <td>1.000</td>\n",
       "      <td>0.000</td>\n",
       "    </tr>\n",
       "    <tr>\n",
       "      <th>3</th>\n",
       "      <td>lcamjam</td>\n",
       "      <td>2019-01-22 21:53:40</td>\n",
       "      <td>Just watched the last episode of MrsMaisel sea...</td>\n",
       "      <td>{'neu': 0.493, 'neg': 0.206, 'pos': 0.302, 'co...</td>\n",
       "      <td>0.7579</td>\n",
       "      <td>0.206</td>\n",
       "      <td>0.493</td>\n",
       "      <td>0.302</td>\n",
       "    </tr>\n",
       "    <tr>\n",
       "      <th>4</th>\n",
       "      <td>EveLaurence</td>\n",
       "      <td>2019-01-22 21:51:48</td>\n",
       "      <td>Midge and Ben at the Art Gallery lol MrsMaisel</td>\n",
       "      <td>{'neu': 0.741, 'neg': 0.0, 'pos': 0.259, 'comp...</td>\n",
       "      <td>0.4215</td>\n",
       "      <td>0.000</td>\n",
       "      <td>0.741</td>\n",
       "      <td>0.259</td>\n",
       "    </tr>\n",
       "    <tr>\n",
       "      <th>5</th>\n",
       "      <td>cheesyearthgirl</td>\n",
       "      <td>2019-01-22 21:48:42</td>\n",
       "      <td>Being pulled in 2 directions Amazon vs Netflix...</td>\n",
       "      <td>{'neu': 0.842, 'neg': 0.0, 'pos': 0.158, 'comp...</td>\n",
       "      <td>0.5719</td>\n",
       "      <td>0.000</td>\n",
       "      <td>0.842</td>\n",
       "      <td>0.158</td>\n",
       "    </tr>\n",
       "    <tr>\n",
       "      <th>6</th>\n",
       "      <td>IntuitLifeCoach</td>\n",
       "      <td>2019-01-22 20:56:29</td>\n",
       "      <td>Sadly community still thinks like this mrsMais...</td>\n",
       "      <td>{'neu': 0.569, 'neg': 0.228, 'pos': 0.203, 'co...</td>\n",
       "      <td>-0.0772</td>\n",
       "      <td>0.228</td>\n",
       "      <td>0.569</td>\n",
       "      <td>0.203</td>\n",
       "    </tr>\n",
       "    <tr>\n",
       "      <th>7</th>\n",
       "      <td>MaiselTV</td>\n",
       "      <td>2019-01-22 20:26:39</td>\n",
       "      <td>She just needed a little vacation MrsMaisel</td>\n",
       "      <td>{'neu': 1.0, 'neg': 0.0, 'pos': 0.0, 'compound...</td>\n",
       "      <td>0.0000</td>\n",
       "      <td>0.000</td>\n",
       "      <td>1.000</td>\n",
       "      <td>0.000</td>\n",
       "    </tr>\n",
       "    <tr>\n",
       "      <th>8</th>\n",
       "      <td>MaiselTV</td>\n",
       "      <td>2019-01-22 20:26:06</td>\n",
       "      <td>Guess Benjamin likes to listen to Ethan s reco...</td>\n",
       "      <td>{'neu': 0.763, 'neg': 0.0, 'pos': 0.237, 'comp...</td>\n",
       "      <td>0.4215</td>\n",
       "      <td>0.000</td>\n",
       "      <td>0.763</td>\n",
       "      <td>0.237</td>\n",
       "    </tr>\n",
       "    <tr>\n",
       "      <th>9</th>\n",
       "      <td>MaiselTV</td>\n",
       "      <td>2019-01-22 20:25:31</td>\n",
       "      <td>Some black and whites might do the trick MrsMa...</td>\n",
       "      <td>{'neu': 0.87, 'neg': 0.13, 'pos': 0.0, 'compou...</td>\n",
       "      <td>-0.0516</td>\n",
       "      <td>0.130</td>\n",
       "      <td>0.870</td>\n",
       "      <td>0.000</td>\n",
       "    </tr>\n",
       "  </tbody>\n",
       "</table>\n",
       "</div>"
      ],
      "text/plain": [
       "            author                time  \\\n",
       "0       JadePagola 2019-01-22 23:59:26   \n",
       "1        luce_taff 2019-01-22 22:11:21   \n",
       "2      Pretty_Dire 2019-01-22 22:10:06   \n",
       "3          lcamjam 2019-01-22 21:53:40   \n",
       "4      EveLaurence 2019-01-22 21:51:48   \n",
       "5  cheesyearthgirl 2019-01-22 21:48:42   \n",
       "6  IntuitLifeCoach 2019-01-22 20:56:29   \n",
       "7         MaiselTV 2019-01-22 20:26:39   \n",
       "8         MaiselTV 2019-01-22 20:26:06   \n",
       "9         MaiselTV 2019-01-22 20:25:31   \n",
       "\n",
       "                                          tweet_text  \\\n",
       "0  MrsMaisel is one of my favorite shows I highly...   \n",
       "1  Dr Benjamin Ettenberg is the sweetest fuckin s...   \n",
       "2                                 Benjamin MrsMaisel   \n",
       "3  Just watched the last episode of MrsMaisel sea...   \n",
       "4     Midge and Ben at the Art Gallery lol MrsMaisel   \n",
       "5  Being pulled in 2 directions Amazon vs Netflix...   \n",
       "6  Sadly community still thinks like this mrsMais...   \n",
       "7        She just needed a little vacation MrsMaisel   \n",
       "8  Guess Benjamin likes to listen to Ethan s reco...   \n",
       "9  Some black and whites might do the trick MrsMa...   \n",
       "\n",
       "                                        tweet_sentmt  compound    neg    neu  \\\n",
       "0  {'neu': 0.608, 'neg': 0.0, 'pos': 0.392, 'comp...    0.6997  0.000  0.608   \n",
       "1  {'neu': 1.0, 'neg': 0.0, 'pos': 0.0, 'compound...    0.0000  0.000  1.000   \n",
       "2  {'neu': 1.0, 'neg': 0.0, 'pos': 0.0, 'compound...    0.0000  0.000  1.000   \n",
       "3  {'neu': 0.493, 'neg': 0.206, 'pos': 0.302, 'co...    0.7579  0.206  0.493   \n",
       "4  {'neu': 0.741, 'neg': 0.0, 'pos': 0.259, 'comp...    0.4215  0.000  0.741   \n",
       "5  {'neu': 0.842, 'neg': 0.0, 'pos': 0.158, 'comp...    0.5719  0.000  0.842   \n",
       "6  {'neu': 0.569, 'neg': 0.228, 'pos': 0.203, 'co...   -0.0772  0.228  0.569   \n",
       "7  {'neu': 1.0, 'neg': 0.0, 'pos': 0.0, 'compound...    0.0000  0.000  1.000   \n",
       "8  {'neu': 0.763, 'neg': 0.0, 'pos': 0.237, 'comp...    0.4215  0.000  0.763   \n",
       "9  {'neu': 0.87, 'neg': 0.13, 'pos': 0.0, 'compou...   -0.0516  0.130  0.870   \n",
       "\n",
       "     pos  \n",
       "0  0.392  \n",
       "1  0.000  \n",
       "2  0.000  \n",
       "3  0.302  \n",
       "4  0.259  \n",
       "5  0.158  \n",
       "6  0.203  \n",
       "7  0.000  \n",
       "8  0.237  \n",
       "9  0.000  "
      ]
     },
     "execution_count": 16,
     "metadata": {},
     "output_type": "execute_result"
    }
   ],
   "source": [
    "df.head(10)"
   ]
  },
  {
   "cell_type": "code",
   "execution_count": null,
   "metadata": {},
   "outputs": [],
   "source": [
    "## average sentiment score for #MrsMaisel"
   ]
  },
  {
   "cell_type": "code",
   "execution_count": 17,
   "metadata": {},
   "outputs": [
    {
     "data": {
      "text/plain": [
       "0.2367"
      ]
     },
     "execution_count": 17,
     "metadata": {},
     "output_type": "execute_result"
    }
   ],
   "source": [
    "df[\"compound\"].mean()"
   ]
  },
  {
   "cell_type": "code",
   "execution_count": 18,
   "metadata": {},
   "outputs": [
    {
     "data": {
      "text/plain": [
       "0.040612244897959185"
      ]
     },
     "execution_count": 18,
     "metadata": {},
     "output_type": "execute_result"
    }
   ],
   "source": [
    "df[\"neg\"].mean()"
   ]
  },
  {
   "cell_type": "code",
   "execution_count": 19,
   "metadata": {},
   "outputs": [
    {
     "data": {
      "text/plain": [
       "0.8171224489795919"
      ]
     },
     "execution_count": 19,
     "metadata": {},
     "output_type": "execute_result"
    }
   ],
   "source": [
    "df[\"neu\"].mean()"
   ]
  },
  {
   "cell_type": "code",
   "execution_count": 20,
   "metadata": {},
   "outputs": [
    {
     "data": {
      "text/plain": [
       "0.14230612244897958"
      ]
     },
     "execution_count": 20,
     "metadata": {},
     "output_type": "execute_result"
    }
   ],
   "source": [
    "df[\"pos\"].mean()"
   ]
  },
  {
   "cell_type": "code",
   "execution_count": null,
   "metadata": {},
   "outputs": [],
   "source": []
  }
 ],
 "metadata": {
  "kernelspec": {
   "display_name": "Python 3",
   "language": "python",
   "name": "python3"
  },
  "language_info": {
   "codemirror_mode": {
    "name": "ipython",
    "version": 3
   },
   "file_extension": ".py",
   "mimetype": "text/x-python",
   "name": "python",
   "nbconvert_exporter": "python",
   "pygments_lexer": "ipython3",
   "version": "3.5.6"
  }
 },
 "nbformat": 4,
 "nbformat_minor": 2
}
